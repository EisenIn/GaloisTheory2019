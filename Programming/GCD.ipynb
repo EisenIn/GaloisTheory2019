{
 "cells": [
  {
   "cell_type": "code",
   "execution_count": 26,
   "metadata": {},
   "outputs": [],
   "source": [
    "P.<x> = PolynomialRing(QQ,sparse=True)"
   ]
  },
  {
   "cell_type": "code",
   "execution_count": 28,
   "metadata": {},
   "outputs": [],
   "source": [
    "f0 = (x^3 + 2*x +1) * (x^2-2*x+1)\n",
    "\n",
    "f1 = (x^2 +x +1)* (x^2-2*x+1)"
   ]
  },
  {
   "cell_type": "code",
   "execution_count": 29,
   "metadata": {},
   "outputs": [
    {
     "name": "stdout",
     "output_type": "stream",
     "text": [
      "x^5 - 2*x^4 + 3*x^3 - 3*x^2 + 1\n",
      "x^4 - x^3 - x + 1\n"
     ]
    }
   ],
   "source": [
    "print(f0)\n",
    "print(f1)"
   ]
  },
  {
   "cell_type": "code",
   "execution_count": 40,
   "metadata": {},
   "outputs": [
    {
     "name": "stdout",
     "output_type": "stream",
     "text": [
      "0\n"
     ]
    }
   ],
   "source": [
    "q1,f2 = f0.quo_rem(f1) \n",
    "q2,f3 = f1.quo_rem(f2)\n",
    "q3,f4 = f2.quo_rem(f3)\n",
    "print(f4)"
   ]
  },
  {
   "cell_type": "code",
   "execution_count": 44,
   "metadata": {},
   "outputs": [
    {
     "name": "stdout",
     "output_type": "stream",
     "text": [
      "('f_0(x)=', x^5 - 2*x^4 + 3*x^3 - 3*x^2 + 1)\n",
      "('f_1(x)=', x^4 - x^3 - x + 1)\n",
      "('f_2(x)=', 2*x^3 - 2*x^2 - 2*x + 2)\n",
      "('f_3(x)=', x^2 - 2*x + 1)\n",
      "('f_4(x)=', 0)\n",
      "('q_1(x)=', x - 1)\n",
      "('q_2(x)=', 1/2*x)\n",
      "('q_3(x)=', 2*x + 2)\n"
     ]
    }
   ],
   "source": [
    "print('f_0(x)=',f0)\n",
    "print('f_1(x)=',f1)\n",
    "print('f_2(x)=',f2)\n",
    "print('f_3(x)=',f3)\n",
    "print('f_4(x)=',f4)\n",
    "\n",
    "\n",
    "print('q_1(x)=', q1)\n",
    "print('q_2(x)=', q2)\n",
    "print('q_3(x)=', q3)\n"
   ]
  },
  {
   "cell_type": "code",
   "execution_count": 50,
   "metadata": {
    "scrolled": true
   },
   "outputs": [
    {
     "name": "stdout",
     "output_type": "stream",
     "text": [
      "\\left(\\begin{array}{rr}\n",
      "0 & 1 \\\\\n",
      "1 & -2 x - 2\n",
      "\\end{array}\\right)\n",
      "\\left(\\begin{array}{rr}\n",
      "0 & 1 \\\\\n",
      "1 & -\\frac{1}{2} x\n",
      "\\end{array}\\right)\n",
      "\\left(\\begin{array}{rr}\n",
      "0 & 1 \\\\\n",
      "1 & -x + 1\n",
      "\\end{array}\\right)\n",
      "\\left(\\begin{array}{rr}\n",
      "-\\frac{1}{2} x & \\frac{1}{2} x^{2} - \\frac{1}{2} x + 1 \\\\\n",
      "x^{2} + x + 1 & -x^{3} - 2 x - 1\n",
      "\\end{array}\\right)\n",
      "(-\\frac{1}{2} x, x^{5} - 2 x^{4} + 3 x^{3} - 3 x^{2} + 1, \\frac{1}{2} x^{2} - \\frac{1}{2} x + 1, x^{4} - x^{3} - x + 1)\n"
     ]
    }
   ],
   "source": [
    "U1 = Matrix([[0,1],[1,-q1]])\n",
    "U2 = Matrix([[0,1],[1,-q2]])\n",
    "U3 = Matrix([[0,1],[1,-q3]])\n",
    "\n",
    "print(latex(U3))\n",
    "print(latex(U2))\n",
    "print(latex(U1))\n",
    "\n",
    "print latex(U3*U2*U1)\n",
    "\n",
    "print (latex((U3*U2*U1)[0,0]),  latex(f0),  latex((U3*U2*U1)[0,1]), latex(f1))"
   ]
  },
  {
   "cell_type": "code",
   "execution_count": null,
   "metadata": {},
   "outputs": [],
   "source": []
  }
 ],
 "metadata": {
  "kernelspec": {
   "display_name": "SageMath 8.8",
   "language": "sage",
   "name": "sagemath"
  },
  "language_info": {
   "codemirror_mode": {
    "name": "ipython",
    "version": 2
   },
   "file_extension": ".py",
   "mimetype": "text/x-python",
   "name": "python",
   "nbconvert_exporter": "python",
   "pygments_lexer": "ipython2",
   "version": "2.7.15"
  }
 },
 "nbformat": 4,
 "nbformat_minor": 2
}
