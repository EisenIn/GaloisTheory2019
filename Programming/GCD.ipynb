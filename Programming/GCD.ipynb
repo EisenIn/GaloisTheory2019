{
 "cells": [
  {
   "cell_type": "code",
   "execution_count": 31,
   "metadata": {},
   "outputs": [
    {
     "name": "stdout",
     "output_type": "stream",
     "text": [
      "Poly(x**2 - x - 1, x, domain='QQ')\n",
      "Poly(0, x, domain='QQ')\n"
     ]
    }
   ],
   "source": [
    "from sympy.interactive.printing import init_printing\n",
    "init_printing(use_unicode=False, wrap_line=False, no_global=True)\n",
    "from sympy.matrices import *\n",
    "\n",
    "from sympy import Poly, div, QQ, latex, gcd\n",
    "from sympy.abc import x\n",
    "\n",
    "\n",
    "f0 = Poly(x**5 + 2*x**4 - x**3 - 2*x**2 + x, x, domain='QQ')\n",
    "f1 = Poly(x**3 + 3*x**2 + 1, x, domain='QQ')\n",
    "h =  Poly(x**2 - x -1, x, domain='QQ')\n",
    "\n",
    "f0 = f0*h \n",
    "f1 =  f1 *h\n",
    "\n",
    "\n",
    "print(gcd(f0,f1))\n",
    "\n",
    "q1 = f0.div(f1)[0]\n",
    "f2 = f0.div(f1)[1]\n",
    "\n",
    "\n",
    "q2 = f1.div(f2)[0]\n",
    "f3 = f1.div(f2)[1]\n",
    "\n",
    "q3=f2.div(f3)[0]\n",
    "f4 = f2.div(f3)[1]\n",
    "\n",
    "q4=f3.div(f4)[0]\n",
    "f5 = f4.div(f4)[1]\n",
    "\n",
    "\n",
    "\n",
    "print (f5) \n",
    "\n",
    "\n"
   ]
  },
  {
   "cell_type": "code",
   "execution_count": null,
   "metadata": {},
   "outputs": [],
   "source": []
  }
 ],
 "metadata": {
  "kernelspec": {
   "display_name": "Python 3",
   "language": "python",
   "name": "python3"
  },
  "language_info": {
   "codemirror_mode": {
    "name": "ipython",
    "version": 3
   },
   "file_extension": ".py",
   "mimetype": "text/x-python",
   "name": "python",
   "nbconvert_exporter": "python",
   "pygments_lexer": "ipython3",
   "version": "3.7.3"
  }
 },
 "nbformat": 4,
 "nbformat_minor": 2
}
